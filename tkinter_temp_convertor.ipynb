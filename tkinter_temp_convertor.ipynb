{
 "cells": [
  {
   "cell_type": "code",
   "execution_count": 1,
   "metadata": {},
   "outputs": [],
   "source": [
    "import tkinter as tk "
   ]
  },
  {
   "cell_type": "code",
   "execution_count": 7,
   "metadata": {},
   "outputs": [],
   "source": [
    "def fahrenheit_to_celsius():\n",
    "    f=float(ent.get())\n",
    "    c = (f - 32) * 5 / 9\n",
    "    lbl['text']='{:.2f}'.format(c)\n",
    "\n",
    "\n",
    "window=tk.Tk()\n",
    "window.title('Temperature Convertor')\n",
    "window.rowconfigure(index=0,weight=1,minsize=50)\n",
    "window.columnconfigure(index=[0,1,2],weight=1,minsize=50)\n",
    "window.resizable(width=False,height=False)\n",
    "\n",
    "frm_entry=tk.Frame(master=window)\n",
    "frm_entry.grid(row=0,column=0,sticky='nsew')\n",
    "\n",
    "ent=tk.Entry(master=frm_entry,width=10)\n",
    "ent.pack(side=tk.LEFT)\n",
    "\n",
    "lbl_f=tk.Label(master=frm_entry,text='F')\n",
    "lbl_f.pack(side=tk.LEFT)\n",
    "\n",
    "but=tk.Button(text='->',command=fahrenheit_to_celsius)\n",
    "but.grid(row=0,column=1,sticky='nsew')\n",
    "\n",
    "lbl=tk.Label(text='')\n",
    "lbl.grid(row=0,column=2,sticky='nsew')\n",
    "\n",
    "window.mainloop()\n",
    "\n"
   ]
  },
  {
   "cell_type": "code",
   "execution_count": null,
   "metadata": {},
   "outputs": [],
   "source": []
  }
 ],
 "metadata": {
  "kernelspec": {
   "display_name": "vision",
   "language": "python",
   "name": "python3"
  },
  "language_info": {
   "codemirror_mode": {
    "name": "ipython",
    "version": 3
   },
   "file_extension": ".py",
   "mimetype": "text/x-python",
   "name": "python",
   "nbconvert_exporter": "python",
   "pygments_lexer": "ipython3",
   "version": "3.9.12"
  },
  "orig_nbformat": 4
 },
 "nbformat": 4,
 "nbformat_minor": 2
}
