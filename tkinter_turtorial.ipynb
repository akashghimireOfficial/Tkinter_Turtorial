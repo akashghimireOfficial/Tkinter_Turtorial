{
 "cells": [
  {
   "cell_type": "code",
   "execution_count": 1,
   "metadata": {},
   "outputs": [],
   "source": [
    "import tkinter as tk\n",
    "from PIL import Image,ImageTk\n",
    "import cv2"
   ]
  },
  {
   "cell_type": "code",
   "execution_count": null,
   "metadata": {},
   "outputs": [],
   "source": [
    "window=tk.Tk() ## Creating an instannce of tkinter window. This window acts as a container for widgets.\n",
    "window.mainloop()  ## Necessary to show tkinter window. This is also used to listen to event loop such as input from button Until the window\n",
    "# is closed further lines of codes are not executed."
   ]
  },
  {
   "attachments": {},
   "cell_type": "markdown",
   "metadata": {},
   "source": [
    "# Adding Widgets \n",
    "Widgets are GUI tools such as Label, Text, Button, which are contained inside a window. \n",
    "\n",
    "| Widgets | Description |\n",
    "|----------|----------|\n",
    "| Label    | Used to display text or Images on window.   |\n",
    "| Button    | A Button contains text and can perform an action when called.   |\n",
    "| Entry    | A text Entry widget that allows only a single line of text. (Can be used to accept input from the user)   |\n",
    "| Text    | A text Entry widget that allows a multiple lines of text.   |\n",
    "| Frame    | A rectangular region used to group related widgets or provide padding between widgets   |\n",
    "\n",
    "\n"
   ]
  },
  {
   "attachments": {},
   "cell_type": "markdown",
   "metadata": {},
   "source": [
    "## Adding Label widget\n",
    " "
   ]
  },
  {
   "cell_type": "code",
   "execution_count": null,
   "metadata": {},
   "outputs": [],
   "source": [
    "# Let us use Label widget to display text first\n",
    "window=tk.Tk()\n",
    "hello=tk.Label(text=\"Hello, Tkinter!\",fg='black',bg='white',width=20,height=10) \n",
    "\"\"\"Until this point this Label widget has not been contained in the window itself. So, in order for us to see the widget in the window itself we have to \n",
    "use mehtod to contain it. There are several ways to do so which we will discuss later. For now we will use .pack() method to contained the widget\"\"\";\n",
    "hello.pack() ## This make sure the gadget is packed or contained inside the window. \n",
    "window.mainloop()"
   ]
  },
  {
   "cell_type": "code",
   "execution_count": null,
   "metadata": {},
   "outputs": [],
   "source": [
    "## Using Tkinter  Label widgets to show the images. \n",
    "\"\"\"Here, if decide to use image open with opencv or in the form or np.array make sure to covert to PIL image and then convert PIL Image to ImageTK \"\"\";\n",
    "\n",
    "\n",
    "window=tk.Tk()\n",
    "image=Image.open('images/cr7.jpg')\n",
    "image_label=ImageTk.PhotoImage(image)\n",
    "\n",
    "tk_label=tk.Label(image=image_label,width=512,height=225)\n",
    "tk_label.pack()\n",
    "window.mainloop()"
   ]
  },
  {
   "attachments": {},
   "cell_type": "markdown",
   "metadata": {},
   "source": [
    "## Adding Buttons"
   ]
  },
  {
   "cell_type": "code",
   "execution_count": null,
   "metadata": {},
   "outputs": [],
   "source": [
    "window=tk.Tk()\n",
    "but=tk.Button(text='Click, me', fg='black',\n",
    "              bg='white',\n",
    "              )\n",
    "but.pack()\n",
    "window.mainloop()\n",
    "\n",
    "\"\"\"\"The main purpose of the button is to creative interactive enviroment. For example when click call a function to do certain task. We will do that later when we learn how to handle event\"\"\";"
   ]
  },
  {
   "attachments": {},
   "cell_type": "markdown",
   "metadata": {},
   "source": [
    "# Adding Entry\n",
    "\n",
    "> Allow user to take input in a single line \n",
    "\n",
    "| Entry Method       | Description                                       |\n",
    "|---------------|---------------------------------------------------|\n",
    "| `get()`       | Returns the current contents of the Entry widget. |\n",
    "| `delete()`    | Deletes characters from the Entry widget.         |\n",
    "| `insert()`    | Inserts text into the Entry widget.               |\n",
    "| `icursor()`   | Sets the insertion cursor at the given position.  |\n",
    "| `index()`     | Returns the character index at the given position.|\n",
    "| `select_adjust()` | Adjusts the selection to a new index.          |\n",
    "| `select_clear()`  | Clears the selection.                          |\n",
    "| `select_from()`   | Sets the selection anchor.                     |\n",
    "| `select_present()`| Returns whether there is a selection.          |\n",
    "| `select_range()`  | Sets the selection from index1 to index2.      |\n",
    "| `select_to()`     | Sets the selection to a new index.             |\n"
   ]
  },
  {
   "cell_type": "code",
   "execution_count": null,
   "metadata": {},
   "outputs": [],
   "source": [
    "window=tk.Tk()\n",
    "lbl=tk.Label(text='Enter you text below !')\n",
    "lbl.pack()\n",
    "entry_text=tk.Entry()\n",
    "entry_text.pack()\n",
    "window.mainloop()\n",
    "\n",
    "\"\"\"Here this creates a simple box where you can input the text; however, we will want to make it interactive. For example at what event should the text be taken. For example when you click the button or press \n",
    "enter on the keyboard. This can be done using .bind() or using button. We will learn about bind() later.   \"\"\";"
   ]
  },
  {
   "attachments": {},
   "cell_type": "markdown",
   "metadata": {},
   "source": [
    "## Using Button with Entry\n",
    "\n",
    "\n",
    "\n",
    " "
   ]
  },
  {
   "cell_type": "code",
   "execution_count": null,
   "metadata": {},
   "outputs": [],
   "source": [
    "#  The *command* argument within in the *Button* widget specifies the function or method to be called when the button is clicked. \n",
    "\n",
    "def print_clicked():\n",
    "    print('Clicked')\n",
    "\n",
    "window=tk.Tk()\n",
    "\n",
    "but=tk.Button(text='@@', command=print_clicked)\n",
    "but.pack()\n",
    "window.mainloop()\n",
    "\n",
    "\"\"\"This makes button somehow kinda interactive  \"\"\";"
   ]
  },
  {
   "cell_type": "code",
   "execution_count": null,
   "metadata": {},
   "outputs": [],
   "source": [
    "def print_entry():\n",
    "    entry_text.delete(0,2) \n",
    "    entry_text.insert(1,\"\\tHello\")\n",
    "    text=entry_text.get()\n",
    "    print('Retrieve Text: ', text)\n",
    "\n",
    "window=tk.Tk()\n",
    "lbl=tk.Label(text=\"Enter the text\")\n",
    "lbl.pack()\n",
    "entry_text=tk.Entry()\n",
    "entry_text.pack()\n",
    "\n",
    "but=tk.Button(text='click me',command=print_entry)\n",
    "but.pack()\n",
    "\n",
    "window.mainloop()"
   ]
  },
  {
   "attachments": {},
   "cell_type": "markdown",
   "metadata": {},
   "source": [
    "## Using Text Widget\n",
    "> Similar to Entry widget, however we can use multiple lines of input \n",
    "\n",
    "| Method      | Widget  | Arguments       | Description                                                                                                                                                       |\n",
    "|-------------|---------|-----------------|-------------------------------------------------------------------------------------------------------------------------------------------------------------------|\n",
    "| `get()`     | `Entry` | None            | Returns the contents of the `Entry` widget as a string.                                                                                                          |\n",
    "|             | `Text`  | `index1`        | Returns the text from the given `index1` in the `Text` widget. Indices are in the form \"line.column\".                                                            |\n",
    "|             |         | `index1 index2` | Returns the text from `index1` to `index2` in the `Text` widget.                                                                                                 |\n",
    "| `delete()`  | `Entry` | `first`         | Deletes characters from the `Entry` widget starting at index `first`.                                                                                           |\n",
    "|             |         | `first last`    | Deletes characters from the `Entry` widget between indices `first` and `last`.                                                                                  |\n",
    "|             | `Text`  | `index1`        | Deletes the character at the given `index1` in the `Text` widget. Indices are in the form \"line.column\".                                                         |\n",
    "|             |         | `index1 index2` | Deletes the text from `index1` to `index2` in the `Text` widget.                                                                                                 |\n"
   ]
  },
  {
   "cell_type": "code",
   "execution_count": null,
   "metadata": {},
   "outputs": [],
   "source": [
    "# def print_entry():\n",
    "#     entry_text.delete(0,2) \n",
    "#     text=entry_text.get()\n",
    "#     print('Retrieve Text: ', text)\n",
    "\n",
    "# window=tk.Tk()\n",
    "# lbl=tk.Label(text=\"Enter the text\")\n",
    "# lbl.pack()\n",
    "# entry_text=tk.Text()\n",
    "# entry_text.pack()\n",
    "\n",
    "# but=tk.Button(text='click me',command=print_entry)\n",
    "# but.pack()\n",
    "\n",
    "# window.mainloop()\n",
    "\n",
    "## Learn more with Text widget "
   ]
  },
  {
   "attachments": {},
   "cell_type": "markdown",
   "metadata": {},
   "source": [
    "## Frame widget \n",
    "\n",
    "Frame widget are important for organising the layout all widget.  A window which is basically a container for all widgets. Because there is a single container for all the widgets it can be difficult to arrange it and it does not look clean. A Frame widget can itself act as a container for other widget. We can create multiple numbers of Frame and these frames are ultimately contained in the main root or window. "
   ]
  },
  {
   "cell_type": "code",
   "execution_count": null,
   "metadata": {},
   "outputs": [],
   "source": [
    "window=tk.Tk()\n",
    "frame1=tk.Frame()\n",
    "frame2=tk.Frame()\n",
    "label1=tk.Label(master=frame1,text='I am Frame1')\n",
    "label2=tk.Label(master=frame2,text='I am Frame2')\n",
    "label1.pack()\n",
    "label2.pack()\n",
    "frame1.pack()\n",
    "frame2.pack()\n",
    "window.mainloop()"
   ]
  },
  {
   "attachments": {},
   "cell_type": "markdown",
   "metadata": {},
   "source": [
    "### Adjusting the Frame Appearance \n",
    "\n",
    "Frame widgets can be configured with a relief attribute that creates a border around the frame. You can set relief to be any of the following values:\n",
    "\n",
    "- tk.FLAT: Has no border effect (the default value)\n",
    "- tk.SUNKEN: Creates a sunken effect\n",
    "- tk.RAISED: Creates a raised effect\n",
    "- tk.GROOVE: Creates a grooved border effect\n",
    "- tk.RIDGE: Creates a ridged effect\n",
    "\n",
    "To apply the border effect, you must set the borderwidth attribute to a value greater than 1. This attribute adjusts the width of the border in pixels. The best way to get a feel for what each effect looks like is to see them for yourself. Here’s a script that packs five Frame widgets into a window, each with a different value for the relief argument:\n",
    "\n",
    "*Credit: [Tkiner turtorial](https://realpython.com/python-gui-tkinter/)*"
   ]
  },
  {
   "cell_type": "code",
   "execution_count": null,
   "metadata": {},
   "outputs": [],
   "source": [
    "border_effects = {\n",
    "    \"flat\": tk.FLAT,\n",
    "    \"sunken\": tk.SUNKEN,\n",
    "    \"raised\": tk.RAISED,\n",
    "    \"groove\": tk.GROOVE,\n",
    "    \"ridge\": tk.RIDGE,\n",
    "}\n",
    "\n",
    "window = tk.Tk()\n",
    "\n",
    "for relief_name, relief in border_effects.items():\n",
    "    frame = tk.Frame(master=window, relief=relief, borderwidth=5)\n",
    "    frame.pack(side=tk.LEFT)\n",
    "    label = tk.Label(master=frame, text=relief_name)\n",
    "    label.pack()\n",
    "\n",
    "window.mainloop()"
   ]
  },
  {
   "attachments": {},
   "cell_type": "markdown",
   "metadata": {},
   "source": [
    "# Geometry Manager\n",
    "\n",
    "Until now we have used .pack() method to contained a widget within a window or a Frame. Beside pack() we have two other methods with similar purpose, and they are :\n",
    "- .place() \n",
    "- .grid()\n",
    "\n",
    "> Note: Each window or Frame in your application can use only one geometry manager. "
   ]
  },
  {
   "attachments": {},
   "cell_type": "markdown",
   "metadata": {},
   "source": [
    "## .pack() geometry box \n",
    "\n",
    "The .pack() geometry manager uses a packing algorithm to place widgets in a Frame or window in a specified order. For a given widget, the packing algorithm has two primary steps:\n",
    "\n",
    "1. Compute a rectangular area called a parcel that’s just tall (or wide) enough to hold the widget and fills the remaining width (or height) in the window with blank space.\n",
    "2. Center the widget in the parcel unless a different location is specified.\n",
    "\n",
    ".pack() is powerful, but it can be difficult to visualize. The best way to get a feel for .pack() is to look at some examples. See what happens when you .pack() three Label widgets into a Frame:"
   ]
  },
  {
   "cell_type": "code",
   "execution_count": null,
   "metadata": {},
   "outputs": [],
   "source": [
    "# pack() place each widget in a ordered way. By default each layer are place below each other \n",
    "\n",
    "window = tk.Tk()\n",
    "\n",
    "frame1 = tk.Frame(master=window, width=100, height=100, bg=\"red\")\n",
    "frame1.pack()\n",
    "\n",
    "frame2 = tk.Frame(master=window, width=50, height=50, bg=\"yellow\")\n",
    "frame2.pack()\n",
    "\n",
    "frame3 = tk.Frame(master=window, width=25, height=25, bg=\"blue\")\n",
    "frame3.pack()\n",
    "\n",
    "window.mainloop()"
   ]
  },
  {
   "cell_type": "code",
   "execution_count": null,
   "metadata": {},
   "outputs": [],
   "source": [
    "\"\"\"\n",
    "In the above example each frame was place one below others. By default each of them were centered and there were gaps where width was less. What if we want to fill it ?  \n",
    "In the above example there was gap in \"X\" axis or width. Now to fill that we can pass argument, fill=tk.X. And in the same way if there is gap in Y axis we can do fill=tf.Y\n",
    "\"\"\";\n",
    "\n",
    "# pack() place each widget in a ordered way. By default each layer are place below each other \n",
    "\n",
    "window = tk.Tk()\n",
    "\n",
    "frame1 = tk.Frame(master=window, width=100, height=100, bg=\"red\")\n",
    "frame1.pack(fill=tk.X)\n",
    "\n",
    "frame2 = tk.Frame(master=window, width=50, height=50, bg=\"yellow\")\n",
    "frame2.pack(fill=tk.X)\n",
    "\n",
    "frame3 = tk.Frame(master=window, width=25, height=25, bg=\"blue\")\n",
    "frame3.pack(fill=tk.X)\n",
    "\n",
    "window.mainloop()"
   ]
  },
  {
   "cell_type": "code",
   "execution_count": null,
   "metadata": {},
   "outputs": [],
   "source": [
    "\"\"\"\n",
    "By default the widgets are packed at bottom. However, we can also pack widgest in any order such as Bottom, Left, Right,Up. We can use the argument side. \n",
    "Here since there is gap in Y axis this time we will fill the Y axis \n",
    "\"\"\";\n",
    "window = tk.Tk()\n",
    "\n",
    "frame1 = tk.Frame(master=window, width=100, height=100, bg=\"red\")\n",
    "frame1.pack(side=tk.LEFT,fill=tk.Y)\n",
    "\n",
    "frame2 = tk.Frame(master=window, width=50, height=50, bg=\"yellow\")\n",
    "frame2.pack(side=tk.LEFT,fill=tk.Y)\n",
    "\n",
    "frame3 = tk.Frame(master=window, width=25, height=25, bg=\"blue\")\n",
    "frame3.pack(side=tk.LEFT,fill=tk.Y)\n",
    "\n",
    "window.mainloop()"
   ]
  },
  {
   "cell_type": "code",
   "execution_count": null,
   "metadata": {},
   "outputs": [],
   "source": [
    "\"\"\"\n",
    "In above window(you can try), that when you try to interact the window and try to enlarge it the frame does not change with respect to that. You can pass the argument expand= True and \n",
    "now you can resize window however you want, and the frames will expand and fill the window responsively, \n",
    "\"\"\";\n",
    "\n",
    "window = tk.Tk()\n",
    "\n",
    "frame1 = tk.Frame(master=window, width=200, height=100, bg=\"red\")\n",
    "frame1.pack(fill=tk.BOTH, side=tk.LEFT, expand=True)\n",
    "\n",
    "frame2 = tk.Frame(master=window, width=100, bg=\"yellow\")\n",
    "frame2.pack(fill=tk.BOTH, side=tk.LEFT, expand=True)\n",
    "\n",
    "frame3 = tk.Frame(master=window, width=50, bg=\"blue\")\n",
    "frame3.pack(fill=tk.BOTH, side=tk.LEFT, expand=True)\n",
    "\n",
    "window.mainloop()"
   ]
  },
  {
   "attachments": {},
   "cell_type": "markdown",
   "metadata": {},
   "source": [
    "###  .place() Geometry Manager \n",
    "\n",
    "You can use .place() to control the precise location that a widget should occupy in a window or Frame. You must provide two keyword arguments, x and y, which specify the x- and y-coordinates for the top-left corner of the widget. Both x and y are measured in pixels, not text units.\n",
    "\n",
    "Keep in mind that the origin, where x and y are both 0, is the top-left corner of the Frame or window. So, you can think of the y argument of .place() as the number of pixels from the top of the window, and the x argument as the number of pixels from the left edge of the window.\n",
    "\n",
    "1. Layout can be difficult to manage with .place(). This is especially true if your application has lots of widgets.\n",
    "2. Layouts created with .place() aren’t responsive. They don’t change as the window is resized.\n",
    "\n",
    "\n"
   ]
  },
  {
   "cell_type": "code",
   "execution_count": null,
   "metadata": {},
   "outputs": [],
   "source": [
    "import tkinter as tk\n",
    "\n",
    "window = tk.Tk()\n",
    "\n",
    "frame = tk.Frame(master=window, width=150, height=150)\n",
    "frame.pack()\n",
    "\n",
    "label1 = tk.Label(master=frame, text=\"I'm at (0, 0)\", bg=\"red\")\n",
    "label1.place(x=0, y=0)\n",
    "\n",
    "label2 = tk.Label(master=frame, text=\"I'm at (75, 75)\", bg=\"yellow\")\n",
    "label2.place(x=75, y=75)\n",
    "\n",
    "window.mainloop()\n"
   ]
  },
  {
   "attachments": {},
   "cell_type": "markdown",
   "metadata": {},
   "source": [
    "One of the main challenges of cross-platform GUI development is making layouts that look good no matter which platform they’re viewed on, and .place() is a poor choice for making responsive and cross-platform layouts.\n",
    "\n",
    "That’s not to say you should never use .place()! In some cases, it might be just what you need. For example, if you’re creating a GUI interface for a map, then .place() might be the perfect choice to ensure widgets are placed at the correct distance from each other on the map.\n",
    "\n",
    ".pack() is usually a better choice than .place(), but even .pack() has some downsides. The placement of widgets depends on the order in which .pack() is called, so it can be difficult to modify existing applications without fully understanding the code controlling the layout. The .grid() geometry manager solves a lot of these issues, as you’ll see in the next section."
   ]
  },
  {
   "attachments": {},
   "cell_type": "markdown",
   "metadata": {},
   "source": [
    "### .grid() Geometry Manager\n",
    "\n",
    "The geometry manager you’ll likely use most often is .grid(), which provides all the power of .pack() in a format that’s easier to understand and maintain.\n",
    "\n",
    ".grid() works by splitting a window or Frame into rows and columns. You specify the location of a widget by calling .grid() and passing the row and column indices to the row and column keyword arguments, respectively. Both row and column indices start at 0, so a row index of 1 and a column index of 2 tells .grid() to place a widget in the third column of the second row.\n",
    "\n",
    "The following script creates a 3 × 3 grid of frames with Label widgets packed into them:"
   ]
  },
  {
   "cell_type": "code",
   "execution_count": null,
   "metadata": {},
   "outputs": [],
   "source": [
    "window=tk.Tk()\n",
    "\n",
    "for i in range(3):\n",
    "    for j in range(2):\n",
    "        frame=tk.Frame(master=window,relief=tk.RAISED,borderwidth=1)\n",
    "        frame.grid(row=i,column=j,padx=5,pady=5) ## pad are used to create space \n",
    "        text='Row{}\\nColumn{}'.format(i,j)\n",
    "        label=tk.Label(master=frame,text=text)\n",
    "        label.pack(padx=25,pady=5)\n",
    "\n",
    "window.mainloop()"
   ]
  },
  {
   "attachments": {},
   "cell_type": "markdown",
   "metadata": {},
   "source": [
    "In the above example, if your try to resize or expand the window the grid does not change with respect to change in size of window. \n",
    "In order to make it interactive we can use, .columnconfigure() and .rowconfigure() on the window object. Both .columnconfigure() and .rowconfigure() take three essential arguments:\n",
    "\n",
    "1. Index: The index of the grid column or row that you want to configure or a list of indices to configure multiple rows or columns at the same time\n",
    "2. Weight: A keyword argument called weight that determines how the column or row should respond to window resizing, relative to the other columns and rows\n",
    "3. Minimum Size: A keyword argument called minsize that sets the minimum size of the row height or column width in pixels\n",
    "\n",
    "weight is set to 0 by default, which means that the column or row doesn’t expand as the window resizes. If every column or row is given a weight of 1, then they all grow at the same rate. If one column has a weight of 1 and another a weight of 2, then the second column expands at twice the rate of the first. Adjust the previous script to better handle window resizing:"
   ]
  },
  {
   "cell_type": "code",
   "execution_count": null,
   "metadata": {},
   "outputs": [],
   "source": [
    "window=tk.Tk()\n",
    "\n",
    "for i in range(3):\n",
    "    \n",
    "    window.rowconfigure(i,weight=1,minsize=75)\n",
    "    for j in range(2):\n",
    "        window.columnconfigure(j,weight=1,minsize=75)\n",
    "        frame=tk.Frame(master=window,relief=tk.RAISED,borderwidth=1)\n",
    "        frame.grid(row=i,column=j,padx=5,pady=5) ## pad are used to create space \n",
    "        text='Row{}\\nColumn{}'.format(i,j)\n",
    "        label=tk.Label(master=frame,text=text)\n",
    "        label.pack(padx=25,pady=5)\n",
    "\n",
    "window.mainloop()"
   ]
  },
  {
   "cell_type": "code",
   "execution_count": null,
   "metadata": {},
   "outputs": [],
   "source": [
    "window=tk.Tk()\n",
    "\n",
    "frame1=tk.Frame(master=window,relief=tk.RAISED,borderwidth=1)\n",
    "frame1.grid(row=0,column=0)\n",
    "label1=tk.Label(master=frame1,text='0 0')\n",
    "label1.pack()\n",
    "frame2=tk.Frame(master=window,relief=tk.FLAT,borderwidth=1)\n",
    "frame2.grid(row=5,column=4)\n",
    "label2=tk.Label(master=frame2,text='5 4')\n",
    "label2.pack()\n",
    "frame3=tk.Frame(master=window,relief=tk.FLAT,borderwidth=1)\n",
    "frame3.grid(row=3,column=2)\n",
    "label3=tk.Label(master=frame3,text='3 2')\n",
    "label3.pack()\n",
    "\n",
    "window.mainloop()\n"
   ]
  },
  {
   "cell_type": "markdown",
   "metadata": {},
   "source": [
    "### Learning to allign grids\n",
    "\n",
    "You can change the location of each label inside of the grid cell using the sticky parameter, which accepts a string containing one or more of the following letters:\n",
    "\n",
    "- \"n\" or \"N\" to align to the top-center part of the cell\n",
    "- \"e\" or \"E\" to align to the right-center side of the cell\n",
    "- \"s\" or \"S\" to align to the bottom-center part of the cell\n",
    "- \"w\" or \"W\" to align to the left-center side of the cell\n",
    "\n",
    "The letters \"n\", \"s\", \"e\", and \"w\" come from the cardinal directions north, south, east, and west. Setting sticky to \"n\" on both labels in the previous code positions each label at the top-center of its grid cell. \n",
    "\n",
    "\n",
    "What the above example illustrates is that the .grid() geometry manager’s sticky parameter can be used to achieve the same effects as the .pack() geometry manager’s fill parameter. The correspondence between the sticky and fill parameters is summarized in the following table:\n",
    "\n",
    "|.grid()|\t.pack()|\n",
    "|-------|------------|\n",
    "|sticky=\"ns\"|\tfill=tk.Y|\n",
    "|sticky=\"ew\"\t|fill=tk.X|\n",
    "|sticky=\"nsew\"\t|fill=tk.BOTH|"
   ]
  },
  {
   "cell_type": "code",
   "execution_count": null,
   "metadata": {},
   "outputs": [],
   "source": [
    "window = tk.Tk()\n",
    "window.columnconfigure(0, minsize=250)\n",
    "window.rowconfigure([0, 1], minsize=100)\n",
    "\n",
    "label1 = tk.Label(text=\"A\")\n",
    "label1.grid(row=0, column=0, sticky=\"nsew\")\n",
    "\n",
    "label2 = tk.Label(text=\"B\")\n",
    "label2.grid(row=1, column=0, sticky=\"nsew\")\n",
    "\n",
    "window.mainloop()"
   ]
  },
  {
   "cell_type": "code",
   "execution_count": null,
   "metadata": {},
   "outputs": [],
   "source": [
    "window = tk.Tk()\n",
    "\n",
    "window.rowconfigure(0, minsize=50)\n",
    "window.columnconfigure([0, 1, 2, 3], minsize=50)\n",
    "\n",
    "label1 = tk.Label(text=\"1\", bg=\"black\", fg=\"white\")\n",
    "label2 = tk.Label(text=\"2\", bg=\"black\", fg=\"white\")\n",
    "label3 = tk.Label(text=\"3\", bg=\"black\", fg=\"white\")\n",
    "label4 = tk.Label(text=\"4\", bg=\"black\", fg=\"white\")\n",
    "\n",
    "label1.grid(row=0, column=0)\n",
    "label2.grid(row=0, column=1, sticky=\"ew\")\n",
    "label3.grid(row=0, column=2, sticky=\"ns\")\n",
    "label4.grid(row=0, column=3, sticky=\"nsew\")\n",
    "\n",
    "window.mainloop()"
   ]
  },
  {
   "attachments": {},
   "cell_type": "markdown",
   "metadata": {},
   "source": [
    "## Handling Event with bind \n",
    "\n",
    "In one of the above example we learn how we can use Entry with Button. In that exameple we assigned a function and pass the function to the command argument in order to do something. Now we will learn how we can use  .bind() to do so. \n",
    "\n",
    "In order to do so, we can use method .bind(). This method takes two important arguments: event ,and event_handler_function.  We will learn more below "
   ]
  },
  {
   "cell_type": "code",
   "execution_count": null,
   "metadata": {},
   "outputs": [],
   "source": [
    "def handle_entry_event(event): \n",
    "    \"\"\"\n",
    "    When we create event_handler function, we need to have \"event\" as an argument. Later when we pass this function in bind() then it automatically pass event argument. \n",
    "    \"\"\";\n",
    "    input_text=entry.get()\n",
    "    print('Input Text is : {}'.format(input_text))\n",
    "    entry.delete(0,tk.END)\n",
    "\n",
    "window=tk.Tk()\n",
    "lbl=tk.Label(text=\"Enter Text here\")\n",
    "lbl.pack()\n",
    "entry=tk.Entry()\n",
    "entry.bind('<Return>',handle_entry_event)\n",
    "entry.pack()\n",
    "window.mainloop()\n"
   ]
  },
  {
   "cell_type": "code",
   "execution_count": null,
   "metadata": {},
   "outputs": [],
   "source": [
    "## Handling event in button without the use of command\n",
    "\n",
    "def handle_but(event):\n",
    "    print('Hello\\n')\n",
    "\n",
    "window=tk.Tk()\n",
    "but=tk.Button(text='click me!')\n",
    "but.bind('<Button-1>',handle_but)\n",
    "but.pack()\n",
    "window.mainloop()"
   ]
  },
  {
   "attachments": {},
   "cell_type": "markdown",
   "metadata": {},
   "source": [
    "## Creating a simple interactive enviroment"
   ]
  },
  {
   "cell_type": "code",
   "execution_count": null,
   "metadata": {},
   "outputs": [],
   "source": [
    "window=tk.Tk()\n",
    "\n",
    "\n",
    "def increment():\n",
    "    get_num=entry.get()\n",
    "\n",
    "    if get_num=='':\n",
    "        get_num=0\n",
    "    else:\n",
    "        get_num=int(get_num)\n",
    "    \n",
    "    entry.delete(0,tk.END)\n",
    "    entry.insert(0,\"{}\".format(get_num+1))\n",
    "\n",
    "def decrement():\n",
    "    get_num=entry.get()\n",
    "\n",
    "    if get_num=='':\n",
    "        get_num=0\n",
    "    else:\n",
    "        get_num=int(get_num)\n",
    "    \n",
    "    entry.delete(0,tk.END)\n",
    "    entry.insert(0,\"{}\".format(get_num-1))\n",
    "\n",
    "\n",
    "\n",
    "\n",
    "window.rowconfigure(index=0,weight=1,minsize=50)\n",
    "window.columnconfigure(index=[0,1,2],weight=1,minsize=75)\n",
    "min_but=tk.Button(text=\"-\",command=decrement)\n",
    "min_but.grid(row=0,column=0,sticky='nsew')\n",
    "entry=tk.Entry(width=5)\n",
    "entry.grid(row=0,column=1,sticky='nsew')\n",
    "plus_but=tk.Button(text=\"+\",command=increment)\n",
    "plus_but.grid(row=0,column=2,sticky='nsew')\n",
    "window.mainloop()\n"
   ]
  },
  {
   "cell_type": "code",
   "execution_count": null,
   "metadata": {},
   "outputs": [],
   "source": [
    "def fahrenheit_to_celsius():\n",
    "    f=float(ent.get())\n",
    "    c = (f - 32) * 5 / 9\n",
    "    lbl['text']='{:.2f}'.format(c)\n",
    "\n",
    "\n",
    "window=tk.Tk()\n",
    "window.rowconfigure(index=0,weight=1,minsize=50)\n",
    "window.columnconfigure(index=[0,1,2,3],weight=1,minsize=50)\n",
    "\n",
    "ent=tk.Entry()\n",
    "ent.grid(row=0,column=0,sticky='nsew')\n",
    "\n",
    "lbl_f=tk.Label(text='F')\n",
    "lbl_f.grid(row=0,column=1,sticky='nsew')\n",
    "\n",
    "but=tk.Button(text='->',command=fahrenheit_to_celsius)\n",
    "but.grid(row=0,column=2,sticky='nsew')\n",
    "\n",
    "lbl=tk.Label(text='')\n",
    "lbl.grid(row=0,column=3,sticky='nsew')\n",
    "\n",
    "window.mainloop()\n",
    "\n",
    "\n",
    "\"\"\n"
   ]
  },
  {
   "cell_type": "code",
   "execution_count": null,
   "metadata": {},
   "outputs": [],
   "source": [
    "import tkinter as tk\n",
    "from tkinter.filedialog import askopenfilename, asksaveasfilename\n",
    "\n",
    "def open_file():\n",
    "    \"\"\"Open a file for editing.\"\"\"\n",
    "    filepath = askopenfilename(\n",
    "        filetypes=[(\"Text Files\", \"*.txt\"), (\"All Files\", \"*.*\")]\n",
    "    )\n",
    "    if not filepath:\n",
    "        return\n",
    "    txt_edit.delete(\"1.0\", tk.END)\n",
    "    with open(filepath, mode=\"r\", encoding=\"utf-8\") as input_file:\n",
    "        text = input_file.read()\n",
    "        txt_edit.insert(tk.END, text)\n",
    "    window.title(f\"Simple Text Editor - {filepath}\")\n",
    "\n",
    "def save_file():\n",
    "    \"\"\"Save the current file as a new file.\"\"\"\n",
    "    filepath = asksaveasfilename(\n",
    "        defaultextension=\".txt\",\n",
    "        filetypes=[(\"Text Files\", \"*.txt\"), (\"All Files\", \"*.*\")],\n",
    "    )\n",
    "    if not filepath:\n",
    "        return\n",
    "    with open(filepath, mode=\"w\", encoding=\"utf-8\") as output_file:\n",
    "        text = txt_edit.get(\"1.0\", tk.END)\n",
    "        output_file.write(text)\n",
    "    window.title(f\"Simple Text Editor - {filepath}\")\n",
    "\n",
    "window = tk.Tk()\n",
    "window.title(\"Simple Text Editor\")\n",
    "\n",
    "window.rowconfigure(0, minsize=800, weight=1)\n",
    "window.columnconfigure(1, minsize=800, weight=1)\n",
    "\n",
    "txt_edit = tk.Text(window)\n",
    "frm_buttons = tk.Frame(window, relief=tk.RAISED, bd=2)\n",
    "btn_open = tk.Button(frm_buttons, text=\"Open\", command=open_file)\n",
    "btn_save = tk.Button(frm_buttons, text=\"Save As...\", command=save_file)\n",
    "\n",
    "btn_open.grid(row=0, column=0, sticky=\"ew\", padx=5, pady=5)\n",
    "btn_save.grid(row=1, column=0, sticky=\"ew\", padx=5)\n",
    "\n",
    "frm_buttons.grid(row=0, column=0, sticky=\"ns\")\n",
    "txt_edit.grid(row=0, column=1, sticky=\"nsew\")\n",
    "\n",
    "window.mainloop()"
   ]
  },
  {
   "cell_type": "code",
   "execution_count": null,
   "metadata": {},
   "outputs": [],
   "source": []
  },
  {
   "cell_type": "code",
   "execution_count": null,
   "metadata": {},
   "outputs": [],
   "source": [
    "import tkinter as tk\n",
    "from tkinter.filedialog import askopenfilename,asksaveasfilename\n",
    "import matplotlib.pyplot as plt"
   ]
  },
  {
   "cell_type": "code",
   "execution_count": null,
   "metadata": {},
   "outputs": [],
   "source": [
    "import tkinter as tk\n",
    "from tkinter.filedialog import askopenfilename\n",
    "from PIL import Image, ImageTk\n",
    "\n",
    "def show_img():\n",
    "    img_path = askopenfilename(filetypes=[('Jpg Files', '*.jpg'), ('Jpeg Files', '*.jpeg'), ('All Files', '*')])\n",
    "\n",
    "    if not img_path:\n",
    "        return\n",
    "\n",
    "    img = Image.open(img_path)\n",
    "\n",
    "    img_label = ImageTk.PhotoImage(img)  # Create the PhotoImage object\n",
    "\n",
    "    lbl.img_label = img_label  # Store the PhotoImage object as an attribute of the label widget # or use Global img_label; Note you don't need to do this for text \n",
    "\n",
    "    lbl['image'] = img_label  # Assign the PhotoImage object to the label widget's 'image' attribute\n",
    "\n",
    "window = tk.Tk()\n",
    "\n",
    "lbl = tk.Label(master=window, image=None)\n",
    "\n",
    "but = tk.Button(text='Select Image', command=show_img)\n",
    "\n",
    "but.pack()\n",
    "lbl.pack()\n",
    "window.mainloop()\n"
   ]
  },
  {
   "cell_type": "code",
   "execution_count": 19,
   "metadata": {},
   "outputs": [],
   "source": [
    "import matplotlib as plt"
   ]
  },
  {
   "cell_type": "code",
   "execution_count": null,
   "metadata": {},
   "outputs": [],
   "source": []
  },
  {
   "cell_type": "code",
   "execution_count": null,
   "metadata": {},
   "outputs": [],
   "source": []
  },
  {
   "cell_type": "code",
   "execution_count": 2,
   "metadata": {},
   "outputs": [],
   "source": [
    "import tkinter as tk\n",
    "from PIL import Image,ImageTk\n",
    "import cv2\n",
    "import numpy as np"
   ]
  },
  {
   "cell_type": "code",
   "execution_count": 3,
   "metadata": {},
   "outputs": [],
   "source": [
    "\n",
    "\n",
    "def create_white_image(width, height):\n",
    "    \n",
    "  \n",
    "    white_image = Image.new(\"RGB\", (width, height), \"white\")\n",
    "\n",
    "    img_tk=ImageTk.PhotoImage(white_image)\n",
    "    \n",
    "    return img_tk\n",
    "\n",
    "# Example usage:\n",
    "\n"
   ]
  },
  {
   "cell_type": "code",
   "execution_count": 4,
   "metadata": {},
   "outputs": [],
   "source": [
    "def get_tk_img(img_dire,resize=False):\n",
    "    img=Image.open(img_dire)\n",
    "    if resize:\n",
    "        w,h=resize\n",
    "        img=img.resize((w,h),Image.ANTIALIAS)\n",
    "    img_tk=ImageTk.PhotoImage(img)\n",
    "    return img_tk\n",
    "\n",
    "def arr_tk(arr_dire): \n",
    "    \"\"\"\n",
    "    This function take selected image_dire(from GUI browser).\n",
    "    In order to show the image into tkinter window we need to convert to tkinter image object.\n",
    "    This is done here.\n",
    "    \"\"\"\n",
    "    img_arr=np.load(arr_dire).astype(np.float32)\n",
    "    img=Image.fromarray(img_arr)\n",
    "    img_tk=ImageTk.PhotoImage(img)\n",
    "    return img_tk\n"
   ]
  },
  {
   "cell_type": "code",
   "execution_count": 5,
   "metadata": {},
   "outputs": [],
   "source": [
    "inha_logo_dire='images/inha_logo.png'\n",
    "salus_logo_dire='images/salus_logo.png'\n",
    "arr_dire='images/img_arr.npy'"
   ]
  },
  {
   "cell_type": "code",
   "execution_count": 8,
   "metadata": {},
   "outputs": [],
   "source": [
    "window=tk.Tk()\n",
    "\n",
    "window.title(\"RADAR PROJECT\")\n",
    "window.rowconfigure(index=[0,1,2,3],weight=1,minsize=75)\n",
    "window.columnconfigure(index=0,weight=1,minsize=75)\n",
    "\n",
    "# Defining main frames\n",
    "frame_up=tk.Frame(master=window,borderwidth=2,relief=tk.RAISED,padx=10,pady=10)\n",
    "frm_2=tk.Frame(master=window,borderwidth=2,relief=tk.RAISED,padx=10,pady=10)\n",
    "frm_3=tk.Frame(master=window,borderwidth=2,relief=tk.RAISED,padx=10,pady=10)\n",
    "frm_4=tk.Frame(master=window,borderwidth=2,relief=tk.RAISED,padx=10,pady=10)\n",
    "\n",
    "## Widgets in Frame_up(or row =0)\n",
    "\n",
    "inha_tk=get_tk_img(inha_logo_dire,resize=(128,128))\n",
    "inha_lbl=tk.Label(master=frame_up,image=inha_tk,padx=10,pady=10)\n",
    "inha_lbl.grid(row=0,column=0,sticky='nsew',padx=(0,100))\n",
    "title_lbl=tk.Label(master=frame_up,text='AI-BASED CIFAR THRESHOLD PREDICTION SYSTEM',padx=10,pady=10,font=(\"Arial\", 35),bg=\t'#83838B' ,fg='black')\n",
    "title_lbl.grid(row=0,column=1,sticky='nsew',padx=(0,100))\n",
    "\n",
    "salus_tk=get_tk_img(salus_logo_dire,resize=(164,144))\n",
    "salus_lbl=tk.Label(master=frame_up,image=salus_tk,padx=10,pady=10)\n",
    "salus_lbl.grid(row=0,column=2,sticky='nsew')\n",
    "\n",
    "\n",
    "\n",
    "\n",
    "\n",
    "\n",
    "\n",
    "## widget under second frame(row 1)\n",
    "\n",
    "frm_2_l=tk.Frame(master=frm_2,borderwidth=2)\n",
    "frm_2_l.grid(row=0,column=0,sticky='nsew',padx=(0,300))\n",
    "frm_2_r=tk.Frame(master=frm_2,borderwidth=2, padx=10, pady=10)\n",
    "frm_2_r.grid(row=0,column=1,sticky='nsew')\n",
    "\n",
    "## widget in frm_2_l\n",
    "\n",
    "slct_lbl=tk.Label(master=frm_2_l,text=\"Select the test image\", borderwidth=2,padx=10,pady=10,font=(\"Arial\", 25))\n",
    "browse_btn=tk.Button(master=frm_2_l,text='Browse',padx=10,pady=10,font=(\"Arial\", 25),relief=tk.RAISED)\n",
    "slct_lbl.grid(row=0,column=0,sticky='nsew',padx=(0,40))\n",
    "browse_btn.grid(row=0,column=1,sticky='nsew')\n",
    "\n",
    "## Widget in frm_2_r\n",
    "\n",
    "\n",
    "pred_lbl=tk.Label(master=frm_2_r,text=\"Predict offset & CFAR threshold values\", borderwidth=2,padx=30,pady=10,font=(\"Arial\", 25))\n",
    "run_btn=tk.Button(master=frm_2_r,text='Run',padx=70,pady=10,font=(\"Arial\", 25),relief=tk.RAISED)\n",
    "pred_lbl.grid(row=0,column=0,sticky='nsew')\n",
    "run_btn.grid(row=0,column=1,sticky='nsew')\n",
    "\n",
    "\n",
    "## widget under third frame(row 2)\n",
    "\n",
    "frm_3_l=tk.Frame(master=frm_3,borderwidth=2)\n",
    "frm_3_l.grid(row=0,column=0,sticky='nsew',padx=(0,300))\n",
    "frm_3_r=tk.Frame(master=frm_3,borderwidth=2,bg='#83838B')\n",
    "frm_3_r.grid(row=0,column=1,sticky='nsew')\n",
    "\n",
    "\n",
    "## widget in frm_3_l\n",
    "img_tk=create_white_image(512,512)\n",
    "img_lbl=tk.Label(master=frm_3_l,image=img_tk,padx=10,pady=10)\n",
    "img_lbl.grid(row=0,column=0,rowspan=2)\n",
    "\n",
    "\n",
    "\n",
    "## Widgets in Frm_3_r\n",
    "lbl_0_0=tk.Label(master=frm_3_r,text='Ground Truth\\noffset',font=(\"Arial\", 25),bg='#83838B')\n",
    "lbl_0_0.grid(row=0,column=0,sticky='nsew',padx=(10,25))\n",
    "lbl_0_1=tk.Label(master=frm_3_r,text=' Predicted \\noffset',font=(\"Arial\", 25),bg='#83838B')\n",
    "lbl_0_1.grid(row=0,column=1,sticky='nsew',padx=(0,25))\n",
    "lbl_0_3=tk.Label(master=frm_3_r,text='Final CFAR\\nthresholds',fg='red',font=(\"Arial\", 25),bg=\t'#83838B')\n",
    "lbl_0_3.grid(row=0,column=3,sticky='nsew',padx=(0,25))\n",
    "\n",
    "lbl_1_0=tk.Label(master=frm_3_r,text='\\u25B3t1={}\\n\\u25B3t2={}'.format(4*' ',4*' '),relief=tk.RAISED,font=(\"Arial\", 25))\n",
    "lbl_1_0.grid(row=1,column=0,sticky='nsew',padx=(10,25))\n",
    "lbl_1_1=tk.Label(master=frm_3_r,text='\\u25B3t1={}\\n\\u25B3t2={}'.format(4*' ',4*' '),relief=tk.RAISED,font=(\"Arial\", 25))\n",
    "lbl_1_1.grid(row=1,column=1,sticky='nsew',padx=(0,25))\n",
    "lbl_1_3=tk.Label(master=frm_3_r,text='T1={}\\nT2={}'.format(4*' ',4*' '),padx=10,pady=10,fg='red',relief=tk.RAISED,font=(\"Arial\", 25))\n",
    "lbl_1_3.grid(row=1,column=3,sticky='nsew',padx=(0,25))\n",
    "\n",
    "\n",
    "lbl_2_0=tk.Label(master=frm_3_r,text='inference time',padx=10,pady=10,font=(\"Arial\", 25),bg='#83838B')\n",
    "lbl_2_0.grid(row=2,column=0,sticky='nsew',padx=(90,0),pady=(45,0))\n",
    "\n",
    "lbl_2_1=tk.Label(master=frm_3_r,text='{}msec'.format(5*' '),relief=tk.RAISED,font=(\"Arial\", 25))\n",
    "\n",
    "\n",
    "lbl_2_1.grid(row=2,column=1,sticky='nsew',padx=(5,0),pady=(45,0))\n",
    "\n",
    "\n",
    "## widget under fourth frame(row 3)\n",
    "\n",
    "frm_4_l=tk.Frame(master=frm_4,borderwidth=2)\n",
    "frm_4_l.grid(row=0,column=0,sticky='nsew',padx=(0,180))\n",
    "frm_4_r=tk.Frame(master=frm_4,borderwidth=2)\n",
    "frm_4_r.grid(row=0,column=1,sticky='nsew')\n",
    "\n",
    "\n",
    "## Widget Under frm_4_l\n",
    "lbl_4_l_0=tk.Label(master=frm_4_l,text='Initial CFAR threshold values',font=(\"Arial\", 25),padx=10,pady=10,bg='#83838B')\n",
    "lbl_4_l_0.grid(row=0,column=0,sticky='nsew')\n",
    "lbl_4_l_1=tk.Label(master=frm_4_l,text='T1={}\\nT2={}'.format(4*' ',4*' '),font=(\"Arial\", 25),padx=10,pady=10,bg='#83838B')\n",
    "lbl_4_l_1.grid(row=1,column=0,sticky='nsew')\n",
    "\n",
    "\n",
    "## Widget Under frm_4_l\n",
    "lbl_4_r_0=tk.Label(master=frm_4_r,text='Note',font=(\"Arial\", 25),padx=10,pady=10,bg='#83838B')\n",
    "lbl_4_r_0.grid(row=0,column=0,sticky='nsew')\n",
    "lbl_4_r_1=tk.Label(master=frm_4_r,text='Use the AI predicted Final CFAR threshold values to remove the sea clutter\\n and noise from the input image'.format(4*' ',4*' '),font=(\"Arial\", 25),padx=10,pady=10,bg=\t'#83838B')\n",
    "lbl_4_r_1.grid(row=1,column=0,sticky='nsew')\n",
    "\n",
    "\n",
    "\n",
    "\n",
    "\n",
    "\n",
    "\n",
    "frame_up.grid(row=0,column=0,sticky='nsew')\n",
    "frm_2.grid(row=1,column=0,sticky='nsew')\n",
    "frm_3.grid(row=2,column=0,sticky='nsew')\n",
    "frm_4.grid(row=3,column=0,sticky='nsew')\n",
    "window.mainloop()\n",
    "\n",
    "\n",
    "\n",
    "\n",
    "\n",
    "\n"
   ]
  },
  {
   "cell_type": "code",
   "execution_count": null,
   "metadata": {},
   "outputs": [],
   "source": [
    "import tkinter as tk\n"
   ]
  },
  {
   "cell_type": "code",
   "execution_count": 4,
   "metadata": {},
   "outputs": [],
   "source": [
    "window=tk.Tk()\n",
    "\n",
    "items = [\"Item 1\", \"Item 2\", \"Item 3\", \"Item 4\", \"Item 5\"]\n",
    "listbox=tk.Listbox(master=window)\n",
    "\n",
    "for item in items:\n",
    "    listbox.insert(tk.END,item)\n",
    "\n",
    "listbox.pack()\n",
    "\n",
    "display_label=tk.Label(master=window, text= 'Selected :')\n",
    "display_label.pack()\n",
    "display_label.pack()\n",
    "\n",
    "window.mainloop()"
   ]
  },
  {
   "cell_type": "code",
   "execution_count": 5,
   "metadata": {},
   "outputs": [],
   "source": [
    "import tkinter as tk\n",
    "from tkinter import ttk\n",
    "\n",
    "def on_select(event):\n",
    "    selected_item = dropdown.get()\n",
    "    display_label.config(text=f\"Selected: {selected_item}\")\n",
    "\n",
    "root = tk.Tk()\n",
    "root.title(\"Dropdown Example\")\n",
    "\n",
    "# Create a list of items\n",
    "items = [\"Item 1\", \"Item 2\", \"Item 3\", \"Item 4\", \"Item 5\"]\n",
    "\n",
    "# Create a dropdown (combobox)\n",
    "dropdown = ttk.Combobox(root, values=items)\n",
    "dropdown.pack()\n",
    "\n",
    "# Set a default value for the dropdown\n",
    "dropdown.set(\"Select an item\")\n",
    "\n",
    "# Create a label to display the selected item\n",
    "display_label = tk.Label(root, text=\"Selected:\")\n",
    "display_label.pack()\n",
    "\n",
    "\n",
    "# Bind the selection event to the dropdown\n",
    "dropdown.bind(\"<<ComboboxSelected>>\", on_select)\n",
    "\n",
    "root.mainloop()\n"
   ]
  },
  {
   "cell_type": "code",
   "execution_count": null,
   "metadata": {},
   "outputs": [],
   "source": []
  },
  {
   "cell_type": "code",
   "execution_count": null,
   "metadata": {},
   "outputs": [],
   "source": []
  },
  {
   "cell_type": "code",
   "execution_count": null,
   "metadata": {},
   "outputs": [],
   "source": []
  },
  {
   "cell_type": "code",
   "execution_count": 9,
   "metadata": {},
   "outputs": [],
   "source": [
    "t=[None]*4"
   ]
  },
  {
   "cell_type": "code",
   "execution_count": 10,
   "metadata": {},
   "outputs": [],
   "source": [
    "t[0]=5"
   ]
  },
  {
   "cell_type": "code",
   "execution_count": 11,
   "metadata": {},
   "outputs": [
    {
     "data": {
      "text/plain": [
       "[5, None, None, None]"
      ]
     },
     "execution_count": 11,
     "metadata": {},
     "output_type": "execute_result"
    }
   ],
   "source": [
    "t"
   ]
  },
  {
   "cell_type": "code",
   "execution_count": null,
   "metadata": {},
   "outputs": [],
   "source": []
  }
 ],
 "metadata": {
  "kernelspec": {
   "display_name": "vision",
   "language": "python",
   "name": "python3"
  },
  "language_info": {
   "codemirror_mode": {
    "name": "ipython",
    "version": 3
   },
   "file_extension": ".py",
   "mimetype": "text/x-python",
   "name": "python",
   "nbconvert_exporter": "python",
   "pygments_lexer": "ipython3",
   "version": "3.9.12"
  },
  "orig_nbformat": 4
 },
 "nbformat": 4,
 "nbformat_minor": 2
}
